{
 "cells": [
  {
   "cell_type": "code",
   "execution_count": null,
   "id": "2917f4f9-11b7-424b-a4cc-c3b12fd26ff4",
   "metadata": {},
   "outputs": [],
   "source": [
    "import torch\n",
    "from PIL import Image\n",
    "import open_clip\n",
    "\n",
    "# if you're using a silicon Mac, you might see faster performance using mps, otherwise set MAC = False\n",
    "MAC = True\n",
    "device = \"mps\" if MAC else \"cpu\"\n",
    "\n",
    "# model initialization\n",
    "model, _, preprocess = open_clip.create_model_and_transforms('ViT-B-32', pretrained='laion2b_s34b_b79k', device=device)\n",
    "model.eval()\n",
    "tokenizer = open_clip.get_tokenizer('ViT-B-32')"
   ]
  },
  {
   "cell_type": "code",
   "execution_count": null,
   "id": "b405c35c-473e-49e9-8be3-3c9c67f101ab",
   "metadata": {},
   "outputs": [],
   "source": [
    "# put in any image you want\n",
    "image_fp = \"elephant.webp\"\n",
    "image = preprocess(Image.open(image_fp)).unsqueeze(0).to(device)\n",
    "\n",
    "# change the classification options to whatever you want\n",
    "cls_options = [\n",
    "    \"an elephant\", \n",
    "    \"a dog\", \n",
    "    \"a cat\"\n",
    "]\n",
    "text = tokenizer(cls_options).to(device)\n",
    "\n",
    "with torch.no_grad(), torch.cuda.amp.autocast():\n",
    "    image_features = model.encode_image(image)\n",
    "    text_features = model.encode_text(text)\n",
    "    image_features /= image_features.norm(dim=-1, keepdim=True)\n",
    "    text_features /= text_features.norm(dim=-1, keepdim=True)\n",
    "\n",
    "    text_probs = (100.0 * image_features @ text_features.T).softmax(dim=-1)\n",
    "\n",
    "for cls, prob in zip(cls_options, text_probs[0]):\n",
    "    print(f\"{cls}: {prob:.2f}\")"
   ]
  }
 ],
 "metadata": {
  "kernelspec": {
   "display_name": "Python 3 (ipykernel)",
   "language": "python",
   "name": "python3"
  },
  "language_info": {
   "codemirror_mode": {
    "name": "ipython",
    "version": 3
   },
   "file_extension": ".py",
   "mimetype": "text/x-python",
   "name": "python",
   "nbconvert_exporter": "python",
   "pygments_lexer": "ipython3",
   "version": "3.10.6"
  }
 },
 "nbformat": 4,
 "nbformat_minor": 5
}
